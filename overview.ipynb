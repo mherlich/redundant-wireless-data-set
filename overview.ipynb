{
 "cells": [
  {
   "cell_type": "code",
   "execution_count": null,
   "metadata": {},
   "outputs": [],
   "source": [
    "import re\n",
    "\n",
    "import pandas as pd\n",
    "import geopandas as gpd\n",
    "import contextily as ctx\n",
    "import matplotlib.pyplot as plt\n",
    "\n",
    "import statsmodels.stats.proportion\n",
    "\n",
    "df = pd.read_feather(\"data/SRFG-Redun-2022.fth\")"
   ]
  },
  {
   "attachments": {},
   "cell_type": "markdown",
   "metadata": {},
   "source": [
    "# Map"
   ]
  },
  {
   "cell_type": "code",
   "execution_count": null,
   "metadata": {},
   "outputs": [],
   "source": [
    "gdf = gpd.GeoDataFrame(df, crs='EPSG:4326', geometry=gpd.points_from_xy(df['long'], df['lat']))\n",
    "ax = gdf.plot(figsize=(25, 15), marker='.', alpha=0.1)\n",
    "ctx.add_basemap(ax, source=ctx.providers.OpenStreetMap.Mapnik, crs=gdf.crs)\n",
    "#plt.savefig('map.png', bbox_inches='tight')"
   ]
  },
  {
   "attachments": {},
   "cell_type": "markdown",
   "metadata": {},
   "source": [
    "# Overview table"
   ]
  },
  {
   "cell_type": "code",
   "execution_count": null,
   "metadata": {},
   "outputs": [],
   "source": [
    "descriptions = {}\n",
    "for line in open('README.md', 'r', encoding=\"utf8\"):\n",
    "    description = re.match('-([\\\\w-]+): ([^\\(]+)( \\(.+\\))?\\n', line)\n",
    "    if description:\n",
    "        descriptions[description.group(1)] = description.group(2)"
   ]
  },
  {
   "cell_type": "code",
   "execution_count": null,
   "metadata": {},
   "outputs": [],
   "source": [
    "columns = [\"time\", \"lat\", \"long\", \"alt\", \"signal\", \"rssi\", \"sinr\", \"rsrp\", \"rsrq\", \"datarateDown\", \"ping\"]\n",
    "dfp = df[columns]\n",
    "overview = dfp.describe(include='all', datetime_is_numeric=True).T.rename({'50%':'median'}, axis=1)[['min', 'mean', 'median', 'max', 'std']]\n",
    "overview.loc['time'] = pd.to_datetime(overview.loc['time']).dt.strftime('{%Y-%m-%d %H:%M:%S}')\n",
    "overview['description'] = overview.index.map(descriptions)\n",
    "overview = overview[['description', 'min', 'median', 'max', 'std']]\n",
    "display(overview)\n",
    "overview = overview.add_prefix('{').add_suffix('}')\n",
    "overview.index = '\\texttt{' + overview.index + '}'"
   ]
  },
  {
   "cell_type": "code",
   "execution_count": null,
   "metadata": {},
   "outputs": [],
   "source": [
    "print(overview.to_latex(column_format='llSSSSS', float_format=lambda x: '%.3g' % x, escape=False, na_rep=''))"
   ]
  },
  {
   "attachments": {},
   "cell_type": "markdown",
   "metadata": {},
   "source": [
    "# Correlation analysis"
   ]
  },
  {
   "cell_type": "code",
   "execution_count": null,
   "metadata": {},
   "outputs": [],
   "source": [
    "dff = df.groupby('file')\n",
    "drfiles = list(dff['datarateDown'].max().index[dff['datarateDown'].max().notna()])\n",
    "drdf = df[df['file'].isin(drfiles)]\n",
    "drpairs = drdf[drdf['FullName']=='A1'].set_index('time').join(drdf[drdf['FullName']=='3 AT'].set_index('time'), lsuffix='A', rsuffix='B', how='inner')"
   ]
  },
  {
   "cell_type": "code",
   "execution_count": null,
   "metadata": {},
   "outputs": [],
   "source": [
    "drpairs[\"datarateDownA\"].hist(bins=101);\n",
    "plt.xlabel(\"Data rate [bit/s]\");\n",
    "#plt.savefig('datarateA_hist.pdf')"
   ]
  },
  {
   "cell_type": "code",
   "execution_count": null,
   "metadata": {},
   "outputs": [],
   "source": [
    "drpairs[\"datarateDownB\"].hist(bins=101);\n",
    "plt.xlabel(\"Data rate [bit/s]\");\n",
    "#plt.savefig('datarateB_hist.pdf')"
   ]
  },
  {
   "cell_type": "code",
   "execution_count": null,
   "metadata": {},
   "outputs": [],
   "source": [
    "fig, ax = plt.subplots() # https://stackoverflow.com/questions/43121584/matplotlib-scatterplot-x-axis-labels\n",
    "drpairs[(drpairs[\"datarateDownA\"] < 100e6) & (drpairs[\"datarateDownB\"] < 100e6)].plot.hexbin(\"datarateDownA\", \"datarateDownB\", figsize=(5,5), ax=ax) \n",
    "ax.collections[-1].colorbar.remove()\n",
    "plt.xlabel(\"Data rate of provider A [bit/s]\")\n",
    "plt.ylabel(\"Data rate of provider B [bit/s]\")\n",
    "#plt.savefig('datarate_hexbin.pdf', bbox_inches='tight')\n",
    "drpairs[['datarateDownA', 'datarateDownB']].corr()"
   ]
  },
  {
   "cell_type": "code",
   "execution_count": null,
   "metadata": {},
   "outputs": [],
   "source": [
    "pingfiles = list(dff['ping'].max().index[dff['ping'].max().notna()])\n",
    "pingdf = df[df['file'].isin(pingfiles)]\n",
    "pingpairs = pingdf[pingdf['FullName']=='A1'].set_index('time').join(pingdf[pingdf['FullName']=='3 AT'].set_index('time'), lsuffix='A', rsuffix='B', how='inner')"
   ]
  },
  {
   "cell_type": "code",
   "execution_count": null,
   "metadata": {},
   "outputs": [],
   "source": [
    "pingpairs[pingpairs[\"pingA\"] < 100][\"pingA\"].hist(bins=101);\n",
    "plt.xlabel(\"Ping [ms]\")\n",
    "plt.xlim(0,100);\n",
    "#plt.savefig('pingA_hist.pdf')"
   ]
  },
  {
   "cell_type": "code",
   "execution_count": null,
   "metadata": {},
   "outputs": [],
   "source": [
    "pingpairs[pingpairs[\"pingB\"] < 100][\"pingB\"].hist(bins=101);\n",
    "plt.xlabel(\"Ping [ms]\")\n",
    "plt.xlim(0,100);\n",
    "#plt.savefig('pingB_hist.pdf')"
   ]
  },
  {
   "cell_type": "code",
   "execution_count": null,
   "metadata": {},
   "outputs": [],
   "source": [
    "fig, ax = plt.subplots() # https://stackoverflow.com/questions/43121584/matplotlib-scatterplot-x-axis-labels\n",
    "pingpairs[(pingpairs[\"pingA\"] < 100) & (pingpairs[\"pingB\"] < 100)].plot.hexbin(\"pingA\", \"pingB\", figsize=(4,4), ax=ax)\n",
    "ax.collections[-1].colorbar.remove()\n",
    "plt.xlabel(\"Ping of provider A [ms]\")\n",
    "plt.ylabel(\"Ping of provider B [ms]\")\n",
    "plt.xlim(0, 100)\n",
    "plt.ylim(0, 100)\n",
    "#plt.savefig('ping_hexbin.pdf', bbox_inches='tight')\n",
    "pingpairs[['pingA', 'pingB']].corr()"
   ]
  },
  {
   "attachments": {},
   "cell_type": "markdown",
   "metadata": {},
   "source": [
    "# Calculate reliability based on different assumptions"
   ]
  },
  {
   "cell_type": "code",
   "execution_count": null,
   "metadata": {},
   "outputs": [],
   "source": [
    "def calc_row(name, succ, total):\n",
    "    ci = statsmodels.stats.proportion.proportion_confint(succ, total, method='beta', alpha=0.05)\n",
    "    return [name, 1 - succ/total, 1 - ci[1], 1 - ci[0]]"
   ]
  },
  {
   "cell_type": "code",
   "execution_count": null,
   "metadata": {},
   "outputs": [],
   "source": [
    "bound = 100\n",
    "pingpairs['OKA'] = pingpairs['pingA'] < bound\n",
    "pingpairs['OKB'] = pingpairs['pingB'] < bound\n",
    "A = calc_row('Only network A', pingpairs['OKA'].sum(), len(pingpairs))\n",
    "B = calc_row('Only network B', pingpairs['OKB'].sum(), len(pingpairs))\n",
    "pr = pd.DataFrame([A, B, \n",
    "    ['Assuming independence', A[1]*B[1], A[2]*B[2], A[3]*B[3]],\n",
    "    calc_row('True combined value', \n",
    "        (pingpairs['OKA'] | pingpairs['OKB']).sum(),\n",
    "        len(pingpairs))\n",
    "], columns=['System', '{Loss probability}', '{Lower CI}', '{Upper CI}'])\n",
    "pr"
   ]
  },
  {
   "cell_type": "code",
   "execution_count": null,
   "metadata": {},
   "outputs": [],
   "source": [
    "print(pr.to_latex(index=False, float_format=\"%.5f\", escape=False, column_format=\"lSSS\"))"
   ]
  },
  {
   "cell_type": "code",
   "execution_count": null,
   "metadata": {},
   "outputs": [],
   "source": [
    "bound = 1e6\n",
    "drpairs['OKA']  = drpairs['datarateDownA'] > bound\n",
    "drpairs['OKB']  = drpairs['datarateDownB'] > bound\n",
    "A = calc_row('Only network A', drpairs['OKA'].sum(), len(drpairs))\n",
    "B = calc_row('Only network B', drpairs['OKB'].sum(), len(drpairs))\n",
    "pr = pd.DataFrame([A, B,\n",
    "    ['Assuming independence', A[1]*B[1], A[2]*B[2], A[3]*B[3]],\n",
    "    calc_row('True combined value', \n",
    "        (drpairs['OKA'] | drpairs['OKB']).sum(),\n",
    "        len(drpairs))\n",
    "], columns=['System', '{Outage probability}', '{Lower CI}', '{Upper CI}'])\n",
    "pr"
   ]
  },
  {
   "cell_type": "code",
   "execution_count": null,
   "metadata": {},
   "outputs": [],
   "source": [
    "print(pr.to_latex(index=False, float_format=\"%.5f\", escape=False, column_format=\"lSSS\"))"
   ]
  }
 ],
 "metadata": {
  "kernelspec": {
   "display_name": "geo",
   "language": "python",
   "name": "python3"
  },
  "language_info": {
   "codemirror_mode": {
    "name": "ipython",
    "version": 3
   },
   "file_extension": ".py",
   "mimetype": "text/x-python",
   "name": "python",
   "nbconvert_exporter": "python",
   "pygments_lexer": "ipython3",
   "version": "3.7.11"
  },
  "orig_nbformat": 4,
  "vscode": {
   "interpreter": {
    "hash": "9c4e10c0ff2a797022bdac9571d558ec3c979437ca71b961cbbee7de0dfb83f0"
   }
  }
 },
 "nbformat": 4,
 "nbformat_minor": 2
}
